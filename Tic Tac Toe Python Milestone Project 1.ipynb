{
 "cells": [
  {
   "cell_type": "markdown",
   "metadata": {},
   "source": [
    "# Tic Tac Toe Milestone Project"
   ]
  },
  {
   "cell_type": "markdown",
   "metadata": {},
   "source": [
    "This is my first (non-analytics) programming project in python. The goal was to create a basic Tic Tac Toe game as part of the online Udemy course \"Complete Python Bootcamp\".\n",
    "\n",
    "\n",
    "\n",
    "I realize I have a long way to go as far as my programming skills go, but I hope that, by continuing to practice these skills, I will gain an intuition and flexibility of what could be possible when seeking to apply analytics and machine learning models to problems."
   ]
  },
  {
   "cell_type": "markdown",
   "metadata": {},
   "source": [
    "As I learn about object oriented programming, I hope to come back and apply OOP to this project in the future."
   ]
  },
  {
   "cell_type": "markdown",
   "metadata": {},
   "source": [
    "Note that many features are missing: \n",
    "- currently you can overwrite someone else's move\n",
    "- second player's object is automatically decided for them\n",
    "- a new board is created after each move instead of replacing the old board\n",
    "- the closing feature doesn't respond well with jupyter notebook. \n",
    "- Jupyter notebook probably isn't the best place for this - a GUI like tkinter would be better\n",
    "\n",
    "I hope to fill out these features in the future as well mostly for practice.\n",
    "\n",
    "If there are any suggestions you have for me, I would love to hear them."
   ]
  },
  {
   "cell_type": "markdown",
   "metadata": {},
   "source": [
    "-----"
   ]
  },
  {
   "cell_type": "markdown",
   "metadata": {},
   "source": [
    "The requirements for this project were given as follows:\n",
    "- 2 players should be able to play the game (both sitting at the same computer)\n",
    "- The board should be printed out every time a player makes a move\n",
    "- You should be able to accept input of the player position (on the numpad) and then place a symbol on the board"
   ]
  },
  {
   "cell_type": "code",
   "execution_count": 6,
   "metadata": {},
   "outputs": [],
   "source": [
    "import sys"
   ]
  },
  {
   "cell_type": "code",
   "execution_count": 7,
   "metadata": {},
   "outputs": [],
   "source": [
    "def start():\n",
    "    #starting with no inputs\n",
    "    inputs_ = {'1':' ','2':' ','3':' ','4':' ','5':' ','6':' ','7':' ','8':' ','9':' '}\n",
    "    game_over = False \n",
    "    \n",
    "    def display_board(input_list):\n",
    "        #Display board based on inputs dictionary\n",
    "    \n",
    "        print(f\"  {input_list.get('7','None')}  |  {input_list.get('8','None')}  |  {input_list.get('9','None')}  \")\n",
    "        print(\"------------------\")\n",
    "        print(f\"  {input_list.get('4','None')}  |  {input_list.get('5','None')}  |  {input_list.get('6','None')}  \")\n",
    "        print(\"------------------\")\n",
    "        print(f\"  {input_list.get('1','None')}  |  {input_list.get('2','None')}  |  {input_list.get('3','None')}  \")\n",
    "    \n",
    "              \n",
    "    def choose_player_order():\n",
    "        #choose the first player symbol\n",
    "        first_player=input(\"Please choose who will go first, x or o:\")\n",
    "        return first_player\n",
    "    \n",
    "    def get_first_player_input(p1input): \n",
    "        #get input from first player\n",
    "        play1 = input(f\"Okay, first player, You're up! Use the number pad to place your {first_player}:\")\n",
    "        p1input[play1]=first_player\n",
    "        return p1input\n",
    "              \n",
    "    def get_second_player_input(p2input):\n",
    "        #get input from second player\n",
    "        play2 = input(f\"Okay, second player, You're up! Use the number pad to place your {second_player}:\")\n",
    "        p2input[play2]=second_player\n",
    "        return p2input\n",
    "              \n",
    "    def check_win(ci,game_over):\n",
    "        #check through list of win conditions\n",
    "        check_list = list(ci.values())\n",
    "        \n",
    "        \n",
    "        #change input to numbers\n",
    "        for i,play in enumerate(check_list):\n",
    "            if play == first_player: \n",
    "                check_list[i] = 1\n",
    "            elif play == second_player:\n",
    "                check_list[i] =-1\n",
    "            else:\n",
    "                check_list[i] = 0\n",
    "              \n",
    "        #checking for win conditions\n",
    "              \n",
    "        #to make it easier to sum\n",
    "        def easy_sum(l,indeces):\n",
    "            es = 0\n",
    "            for n in indeces:\n",
    "                es +=l[n]\n",
    "            return es\n",
    "              \n",
    "        if easy_sum(check_list,[0,1,2]) == 3 \\\n",
    "                    or easy_sum(check_list,[0,4,8]) == 3 \\\n",
    "                    or easy_sum(check_list,[0,3,6]) ==3 \\\n",
    "                    or easy_sum(check_list,[6,7,8]) ==3 \\\n",
    "                    or easy_sum(check_list,[2,5,8])==3 \\\n",
    "                    or easy_sum(check_list,[2,4,6])==3:\n",
    "            winner = first_player\n",
    "            game_over = True\n",
    "        elif easy_sum(check_list,[0,1,2]) == -3 \\\n",
    "                    or easy_sum(check_list,[0,4,8]) == -3 \\\n",
    "                    or easy_sum(check_list,[0,3,6]) ==-3 \\\n",
    "                    or easy_sum(check_list,[6,7,8]) ==-3 \\\n",
    "                    or easy_sum(check_list,[2,5,8])==-3 \\\n",
    "                    or easy_sum(check_list,[2,4,6])==-3:\n",
    "            winner = second_player\n",
    "            game_over = True\n",
    "        else: \n",
    "            if 0 not in check_list:\n",
    "                winner = 'tie'\n",
    "                game_over = True\n",
    "                                \n",
    "                                                                   \n",
    "        def game_over_guys():\n",
    "            #what to do when the game is over\n",
    "            if winner == 'x' or winner=='o':\n",
    "                print(f'Congratulations {winner}')\n",
    "            else:\n",
    "                print('It looks like it was a tie!')\n",
    "              \n",
    "            replay=input(\"Insert 'Y if you would like to play again':\")\n",
    "            if replay =='Y':\n",
    "                start()\n",
    "            else:\n",
    "                sys.exit()\n",
    "                #exit\n",
    "\n",
    "        if game_over:\n",
    "            game_over_guys()\n",
    "            return\n",
    "                                                                   \n",
    "              \n",
    "    while not game_over:\n",
    "        display_board(inputs_)\n",
    "        first_player=choose_player_order()\n",
    "        \n",
    "        if first_player =='x':\n",
    "            second_player ='o'\n",
    "        else:\n",
    "            second_player ='x'\n",
    "        \n",
    "        get_first_player_input(inputs_)\n",
    "        display_board(inputs_)\n",
    "              \n",
    "        get_second_player_input(inputs_)\n",
    "        display_board(inputs_)\n",
    "              \n",
    "        get_first_player_input(inputs_)\n",
    "        display_board(inputs_) \n",
    "              \n",
    "        get_second_player_input(inputs_)\n",
    "        display_board(inputs_) \n",
    "              \n",
    "        get_first_player_input(inputs_)\n",
    "        display_board(inputs_) \n",
    "        check_win(inputs_,game_over)\n",
    "              \n",
    "        get_second_player_input(inputs_)\n",
    "        display_board(inputs_) \n",
    "        check_win(inputs_,game_over)\n",
    "              \n",
    "        get_first_player_input(inputs_)\n",
    "        display_board(inputs_) \n",
    "        check_win(inputs_,game_over)\n",
    "              \n",
    "        get_second_player_input(inputs_)\n",
    "        display_board(inputs_) \n",
    "        check_win(inputs_,game_over)\n",
    "              \n",
    "        get_first_player_input(inputs_)\n",
    "        display_board(inputs_) \n",
    "        check_win(inputs_,game_over)\n",
    "        "
   ]
  },
  {
   "cell_type": "code",
   "execution_count": null,
   "metadata": {},
   "outputs": [],
   "source": [
    "start()"
   ]
  },
  {
   "cell_type": "code",
   "execution_count": null,
   "metadata": {},
   "outputs": [],
   "source": []
  }
 ],
 "metadata": {
  "kernelspec": {
   "display_name": "Python 3",
   "language": "python",
   "name": "python3"
  },
  "language_info": {
   "codemirror_mode": {
    "name": "ipython",
    "version": 3
   },
   "file_extension": ".py",
   "mimetype": "text/x-python",
   "name": "python",
   "nbconvert_exporter": "python",
   "pygments_lexer": "ipython3",
   "version": "3.6.8"
  }
 },
 "nbformat": 4,
 "nbformat_minor": 2
}
